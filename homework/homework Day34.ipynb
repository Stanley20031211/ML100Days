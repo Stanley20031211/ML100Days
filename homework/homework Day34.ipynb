{
 "cells": [
  {
   "cell_type": "code",
   "execution_count": 1,
   "metadata": {},
   "outputs": [
    {
     "data": {
      "text/plain": [
       "'\\nA1:挑選 Mr./Ms. right\\nA2:因為這樣的問題，比較無法量化，一個\"對的人\"的特質，\\n比如說道德、善良、孝順等比較抽樣的特徵，不容易量化且每一個人感受程度不同，\\n一個問題如果無法有統一量化標準的問題，較無法使用資料科學的方法來輔助決策。\\n'"
      ]
     },
     "execution_count": 1,
     "metadata": {},
     "output_type": "execute_result"
    }
   ],
   "source": [
    "'''\n",
    "A1:挑選 Mr./Ms. right\n",
    "A2:因為這樣的問題，比較無法量化，一個\"對的人\"的特質，\n",
    "比如說道德、善良、孝順等比較抽樣的特徵，不容易量化且每一個人感受程度不同，\n",
    "一個問題如果無法有統一量化標準的問題，較無法使用資料科學的方法來輔助決策。\n",
    "'''"
   ]
  }
 ],
 "metadata": {
  "kernelspec": {
   "display_name": "Python 3",
   "language": "python",
   "name": "python3"
  },
  "language_info": {
   "codemirror_mode": {
    "name": "ipython",
    "version": 3
   },
   "file_extension": ".py",
   "mimetype": "text/x-python",
   "name": "python",
   "nbconvert_exporter": "python",
   "pygments_lexer": "ipython3",
   "version": "3.8.5"
  }
 },
 "nbformat": 4,
 "nbformat_minor": 4
}
