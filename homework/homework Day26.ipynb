{
 "cells": [
  {
   "cell_type": "code",
   "execution_count": 23,
   "metadata": {},
   "outputs": [],
   "source": [
    "# library\n",
    "import matplotlib.pyplot as plt\n",
    "import numpy as np\n",
    "import pandas as pd\n",
    "from scipy import stats\n",
    "import math\n",
    "import statistics\n",
    "import seaborn as sns"
   ]
  },
  {
   "cell_type": "code",
   "execution_count": 24,
   "metadata": {},
   "outputs": [],
   "source": [
    "## 輸入資料\n",
    "boys=[164, 176, 169, 169, 165, 175, 159, 151, 144, 160, 183, 165, 156, 170,\n",
    " 164, 173, 165, 163, 177, 171]\n",
    "\n",
    "girls=[169, 183, 170, 168, 182, 170, 173, 185, 151, 156, 162, 169, 162, 181,\n",
    " 159, 154, 167, 175, 170, 160]"
   ]
  },
  {
   "cell_type": "code",
   "execution_count": 25,
   "metadata": {},
   "outputs": [
    {
     "name": "stdout",
     "output_type": "stream",
     "text": [
      "男孩身高平均= 165.95\n",
      "女孩身高平均= 168.3\n",
      "男孩身高中位數= 165.0\n",
      "女孩身高中位數= 169.0\n",
      "男孩身高眾數= 165\n",
      "女孩身高眾數= 170\n",
      "男孩身高全距= 39\n",
      "女孩身高全距= 34\n",
      "男孩身高變異數= 84.89210526315789\n",
      "男孩身高變異數= 95.37894736842104\n",
      "男孩身高標準差= 9.213691185575838\n",
      "女孩身高標準差= 9.766214587465353\n",
      "男孩身高90百分位數= 176.1\n",
      "男孩身高50百分位數= 165.0\n",
      "男孩身高20百分位數= 159.8\n",
      "女孩身高90百分位數= 182.1\n",
      "女孩身高50百分位數= 169.0\n",
      "女孩身高20百分位數= 159.8\n",
      "男孩身高偏度= -0.47132127317376954\n",
      "男孩身高峰度= 0.19395882957876331\n",
      "女孩身高偏度= 0.05985321129365068\n",
      "女孩身高峰度= -0.8203607083948947\n"
     ]
    }
   ],
   "source": [
    "#Q1:試著用今天所教的內容，如何描述這兩組資料的樣態?\n",
    "mean_boy=np.mean(boys)\n",
    "print(\"男孩身高平均=\",mean_boy)\n",
    "mean_girl=np.mean(girls)\n",
    "print(\"女孩身高平均=\",mean_girl)\n",
    "\n",
    "# 計算統計量_中位數的方法\n",
    "np_median_boy=np.median(boys,axis=None)\n",
    "print(\"男孩身高中位數=\",np_median_boy)\n",
    "np_median_girl=np.median(girls,axis=None)\n",
    "print(\"女孩身高中位數=\",np_median_girl)\n",
    "\n",
    "#計算統計量_眾數\n",
    "mode_boy=stats.mode(boys,axis=None)\n",
    "print(\"男孩身高眾數=\",mode_boy[0][0])\n",
    "\n",
    "mode_girl=stats.mode(girls,axis=None)\n",
    "print(\"女孩身高眾數=\",mode_girl[0][0])\n",
    "\n",
    "#計算全距:\n",
    "def rangeV(x): \n",
    "  return(max(x)-min(x))\n",
    "    \n",
    "print(\"男孩身高全距=\",rangeV(boys))\n",
    "print(\"女孩身高全距=\",rangeV(girls))\n",
    "\n",
    "#計算變異數\n",
    "print(\"男孩身高變異數=\",np.var(boys,ddof=1))\n",
    "print(\"男孩身高變異數=\",np.var(girls,ddof=1))\n",
    "\n",
    "\n",
    "#計算標準差\n",
    "std_boy=np.std(boys,ddof=1)\n",
    "print(\"男孩身高標準差=\",std_boy)\n",
    "std_girl=np.std(girls,ddof=1)\n",
    "print(\"女孩身高標準差=\",std_girl)\n",
    "\n",
    "## python 百分位數\n",
    "#np\n",
    "print(\"男孩身高90百分位數=\",np.percentile(boys, 90))\n",
    "print(\"男孩身高50百分位數=\",np.percentile(boys, 50))\n",
    "print(\"男孩身高20百分位數=\",np.percentile(boys, 20))\n",
    "\n",
    "print(\"女孩身高90百分位數=\",np.percentile(girls, 90))\n",
    "print(\"女孩身高50百分位數=\",np.percentile(girls, 50))\n",
    "print(\"女孩身高20百分位數=\",np.percentile(girls, 20))\n",
    "\n",
    "\n",
    "#計算峰度和偏度\n",
    "print(\"男孩身高偏度=\",stats.skew(boys))\n",
    "print(\"男孩身高峰度=\",stats.kurtosis(boys))\n",
    "\n",
    "print(\"女孩身高偏度=\",stats.skew(girls))\n",
    "print(\"女孩身高峰度=\",stats.kurtosis(girls))"
   ]
  },
  {
   "cell_type": "code",
   "execution_count": 26,
   "metadata": {},
   "outputs": [
    {
     "name": "stdout",
     "output_type": "stream",
     "text": [
      "男孩身高平均= 165.95\n",
      "女孩身高平均= 168.3\n"
     ]
    }
   ],
   "source": [
    "#Q2: 請問男生和女生在平均身高上誰比較高? \n",
    "# 計算統計量_平均數的方法\n",
    "mean_boy=np.mean(boys)\n",
    "print(\"男孩身高平均=\",mean_boy)\n",
    "mean_girl=np.mean(girls)\n",
    "print(\"女孩身高平均=\",mean_girl)\n",
    "#女生平均而言比較高"
   ]
  }
 ],
 "metadata": {
  "kernelspec": {
   "display_name": "Python 3",
   "language": "python",
   "name": "python3"
  },
  "language_info": {
   "codemirror_mode": {
    "name": "ipython",
    "version": 3
   },
   "file_extension": ".py",
   "mimetype": "text/x-python",
   "name": "python",
   "nbconvert_exporter": "python",
   "pygments_lexer": "ipython3",
   "version": "3.8.5"
  }
 },
 "nbformat": 4,
 "nbformat_minor": 4
}
