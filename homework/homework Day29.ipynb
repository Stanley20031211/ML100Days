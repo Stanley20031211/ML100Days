{
 "cells": [
  {
   "cell_type": "code",
   "execution_count": 1,
   "metadata": {},
   "outputs": [],
   "source": [
    "# library\n",
    "# library\n",
    "from numpy.random import normal,uniform\n",
    "from numpy.random import seed\n",
    "import matplotlib.pyplot as plt\n",
    "import numpy as np\n",
    "import seaborn as sns\n",
    "import pandas as pd\n",
    "from scipy import stats\n",
    "import math\n",
    "import pylab\n",
    "%matplotlib inline"
   ]
  },
  {
   "cell_type": "code",
   "execution_count": 2,
   "metadata": {},
   "outputs": [
    {
     "name": "stdout",
     "output_type": "stream",
     "text": [
      "P(Z<1)= 0.8413447460685429\n"
     ]
    }
   ],
   "source": [
    "## Q1:計算標準常態分配，小於1的機率有多大?\n",
    "mu=0\n",
    "sigma=1\n",
    "b=  stats.norm.cdf(1,mu, sigma)\n",
    "print(\"P(Z<1)=\",b)"
   ]
  },
  {
   "cell_type": "code",
   "execution_count": 3,
   "metadata": {},
   "outputs": [
    {
     "name": "stdout",
     "output_type": "stream",
     "text": [
      "P(Z<2)= 0.9772498680518208\n"
     ]
    }
   ],
   "source": [
    "##Q2:計算標準常態分配，大於1，小於 -1 的機率有多大?\n",
    "mu=0\n",
    "sigma=1\n",
    "b=  stats.norm.cdf(2,mu, sigma)\n",
    "print(\"P(Z<2)=\",b)"
   ]
  },
  {
   "cell_type": "code",
   "execution_count": 4,
   "metadata": {},
   "outputs": [
    {
     "name": "stdout",
     "output_type": "stream",
     "text": [
      "P(Z<2)= 0.9772498680518208\n"
     ]
    }
   ],
   "source": [
    "##:X~N(2,4),x 服從常態分配，平均數為2,變異數為 4，計算 X小於 6 的機率有多大?\n",
    "mu=0\n",
    "sigma=1\n",
    "b=  stats.norm.cdf(2,mu, sigma)\n",
    "print(\"P(Z<2)=\",b)"
   ]
  }
 ],
 "metadata": {
  "kernelspec": {
   "display_name": "Python 3",
   "language": "python",
   "name": "python3"
  },
  "language_info": {
   "codemirror_mode": {
    "name": "ipython",
    "version": 3
   },
   "file_extension": ".py",
   "mimetype": "text/x-python",
   "name": "python",
   "nbconvert_exporter": "python",
   "pygments_lexer": "ipython3",
   "version": "3.8.5"
  }
 },
 "nbformat": 4,
 "nbformat_minor": 4
}
