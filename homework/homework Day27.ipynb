{
 "cells": [
  {
   "cell_type": "code",
   "execution_count": 1,
   "metadata": {},
   "outputs": [],
   "source": [
    "# library\n",
    "import matplotlib.pyplot as plt\n",
    "import numpy as np\n",
    "import pandas as pd\n",
    "from scipy import stats\n",
    "import math\n",
    "import statistics"
   ]
  },
  {
   "cell_type": "code",
   "execution_count": 2,
   "metadata": {},
   "outputs": [
    {
     "name": "stdout",
     "output_type": "stream",
     "text": [
      "0.07958923738717888\n"
     ]
    }
   ],
   "source": [
    "# 這是 bermoulli分配\n",
    "p = 0.5 # 假設是公平硬幣\n",
    "n = 100  # 重複實驗 100次,\n",
    "r = 50 # 計算出現50次正面\n",
    "\n",
    "\n",
    "# 2.計算二項分佈的概率質量分佈 (probability mass function)\n",
    "# 之所以稱為質量，是因為離散的點\n",
    "# P(X=x) --> 是機率\n",
    "probs = stats.binom.pmf(r, n, p)\n",
    "print(probs)"
   ]
  }
 ],
 "metadata": {
  "kernelspec": {
   "display_name": "Python 3",
   "language": "python",
   "name": "python3"
  },
  "language_info": {
   "codemirror_mode": {
    "name": "ipython",
    "version": 3
   },
   "file_extension": ".py",
   "mimetype": "text/x-python",
   "name": "python",
   "nbconvert_exporter": "python",
   "pygments_lexer": "ipython3",
   "version": "3.8.5"
  }
 },
 "nbformat": 4,
 "nbformat_minor": 4
}
